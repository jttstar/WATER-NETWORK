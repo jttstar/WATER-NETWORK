{
  "cells": [
    {
      "cell_type": "markdown",
      "metadata": {},
      "source": [
        "# WDN Pipeline (Colab)\n",
        "Simulaci\u00f3n \u2192 Entrenamiento \u2192 Inferencia\n",
        "\n",
        "Este notebook asume que subiste `wdn_project_final.zip` y lo vas a descomprimir aqu\u00ed."
      ]
    },
    {
      "cell_type": "code",
      "execution_count": null,
      "metadata": {},
      "outputs": [],
      "source": [
        "# \ud83e\uddf0 Setup: descomprimir paquete y crear carpetas b\u00e1sicas\n",
        "!unzip -o wdn_project_final.zip -d .\n",
        "!mkdir -p data/raw data/processed results\n",
        "!ls -la"
      ]
    },
    {
      "cell_type": "markdown",
      "metadata": {},
      "source": [
        "## (Opcional) Subir CTOWN.INP\n",
        "Si ya lo tienes en tu Drive, puedes omitir esta celda y colocar el archivo manualmente en `data/raw/CTOWN.INP`."
      ]
    },
    {
      "cell_type": "code",
      "execution_count": null,
      "metadata": {},
      "outputs": [],
      "source": [
        "from google.colab import files\n",
        "up = files.upload()  # selecciona CTOWN.INP si lo vas a usar\n",
        "if 'CTOWN.INP' in up:\n",
        "    !mv CTOWN.INP data/raw/\n",
        "!ls -l data/raw"
      ]
    },
    {
      "cell_type": "markdown",
      "metadata": {},
      "source": [
        "## 1) Simular y generar dataset"
      ]
    },
    {
      "cell_type": "code",
      "execution_count": null,
      "metadata": {},
      "outputs": [],
      "source": [
        "!python simulate.py --config ctown_example.yaml\n",
        "!ls -l data/processed"
      ]
    },
    {
      "cell_type": "markdown",
      "metadata": {},
      "source": [
        "## 2) Entrenar la IA (MLP)"
      ]
    },
    {
      "cell_type": "code",
      "execution_count": null,
      "metadata": {},
      "outputs": [],
      "source": [
        "!python train.py \\\n",
        "  --npz data/processed/training_set_ctown_demo.npz \\\n",
        "  --outdir artifacts_p_demo \\\n",
        "  --mode p \\\n",
        "  --x_names \"JUNCTION-101,JUNCTION-205\"\n"
      ]
    },
    {
      "cell_type": "markdown",
      "metadata": {},
      "source": [
        "## 3) M\u00e9tricas de evaluaci\u00f3n"
      ]
    },
    {
      "cell_type": "code",
      "execution_count": null,
      "metadata": {},
      "outputs": [],
      "source": [
        "import json, pandas as pd, numpy as np\n",
        "from pathlib import Path\n",
        "m_path = Path('artifacts_p_demo/metrics.json')\n",
        "if m_path.exists():\n",
        "    m = json.loads(m_path.read_text())\n",
        "    mae, rmse, best = m.get('test_mae'), m.get('test_rmse'), m.get('best_val_mse')\n",
        "    escala_ref = 1.0  # cambia por una escala natural o baseline\n",
        "    eff = 100.0*max(0.0, 1.0 - (rmse/escala_ref)) if rmse is not None else None\n",
        "    df = pd.DataFrame({\n",
        "        'M\u00e9trica': ['MAE (test)', 'RMSE (test)', 'Best Val MSE', 'Eficiencia (%)'],\n",
        "        'Valor': [mae, rmse, best, eff]\n",
        "    })\n",
        "    df\n",
        "else:\n",
        "    print('No se encontr\u00f3 artifacts_p_demo/metrics.json. Corre la celda de entrenamiento primero.')"
      ]
    },
    {
      "cell_type": "markdown",
      "metadata": {},
      "source": [
        "## 4) Inferencia y vista previa"
      ]
    },
    {
      "cell_type": "code",
      "execution_count": null,
      "metadata": {},
      "outputs": [],
      "source": [
        "!python infer.py \\\n",
        "  --model artifacts_p_demo/best_model.pt \\\n",
        "  --scalers artifacts_p_demo/scalers.npz \\\n",
        "  --feature_names artifacts_p_demo/x_feature_names.json \\\n",
        "  --mode p \\\n",
        "  --csv data/processed/timeseries_ctown_demo.csv \\\n",
        "  --dout 2 \\\n",
        "  --map \\\n",
        "  --save results/p_pred.csv\n",
        "\n",
        "import pandas as pd\n",
        "pred = pd.read_csv('results/p_pred.csv')\n",
        "ref  = pd.read_csv('data/processed/labels_min_cost_ctown_demo.csv')\n",
        "pd.concat([ref.add_prefix('ref_').head(10), pred.add_prefix('pred_').head(10)], axis=1)"
      ]
    },
    {
      "cell_type": "markdown",
      "metadata": {},
      "source": [
        "### \u00a1Listo!\n",
        "Con esto tienes todo el flujo: simulaci\u00f3n \u2192 entrenamiento \u2192 inferencia + vista de resultados.\n",
        "Ajusta el YAML y los nombres de nodos seg\u00fan tu red real."
      ]
    }
  ],
  "metadata": {
    "kernelspec": {
      "display_name": "Python 3",
      "language": "python",
      "name": "python3"
    },
    "language_info": {
      "name": "python",
      "version": "3.x"
    }
  },
  "nbformat": 4,
  "nbformat_minor": 5
}